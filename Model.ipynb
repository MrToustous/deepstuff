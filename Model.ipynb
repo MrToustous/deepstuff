{
 "cells": [
  {
   "cell_type": "code",
   "execution_count": null,
   "metadata": {},
   "outputs": [],
   "source": [
    "import pandas as pd\n",
    "import numpy as np\n",
    "import json\n",
    "\n",
    "from utils import load\n",
    "\n",
    "idx = pd.IndexSlice\n",
    "\n",
    "%matplotlib inline\n",
    "%load_ext autoreload\n",
    "%autoreload 2"
   ]
  },
  {
   "cell_type": "code",
   "execution_count": null,
   "metadata": {},
   "outputs": [],
   "source": [
    "from keras.layers import Input, Dense\n",
    "from keras.models import Model\n",
    "\n",
    "# from autoencoder_base import AutoencoderBase"
   ]
  },
  {
   "cell_type": "code",
   "execution_count": null,
   "metadata": {},
   "outputs": [],
   "source": [
    "from keras.callbacks import EarlyStopping, TensorBoard\n",
    "\n",
    "class AutoencoderBase(object):\n",
    "\n",
    "    def train(self, x_train, x_test, epochs, batch_size, log_dir='/tmp/autoencoder', stop_early=True):\n",
    "        callbacks = []\n",
    "        if backend._BACKEND == 'tensorflow':\n",
    "            callbacks.append(TensorBoard(log_dir=log_dir))\n",
    "\n",
    "#     if stop_early:\n",
    "#         callbacks.append(EarlyStopping(monitor='val_loss', patience=2, verbose=1, mode='auto'))\n",
    "\n",
    "        self.autoencoder.fit(x_train, x_train,\n",
    "                nb_epoch=epochs,\n",
    "                batch_size=batch_size,\n",
    "                shuffle=True,\n",
    "                validation_data=(x_test, x_test),\n",
    "                callbacks=callbacks)\n",
    "\n",
    "    def encode(self, x):\n",
    "        return self.encoder.predict(x)\n",
    "\n",
    "    def decode(self, x):\n",
    "        return self.decoder.predict(x)\n",
    "\n",
    "    def summary(self):\n",
    "        self.autoencoder.summary()"
   ]
  },
  {
   "cell_type": "code",
   "execution_count": null,
   "metadata": {},
   "outputs": [],
   "source": [
    "class Autoencoder(AutoencoderBase):\n",
    "\n",
    "    def __init__(self, dim_in, encoding_dim):\n",
    "        input_img = Input(shape=(dim_in,), name='EncoderIn')\n",
    "\n",
    "        encoded = Dense(encoding_dim, activation='relu', name='Encoder')(input_img)\n",
    "\n",
    "        decoded = Dense(dim_in, activation='sigmoid', name='Decoder')(encoded)\n",
    "\n",
    "        self.autoencoder = Model(input=input_img, output=decoded)\n",
    "\n",
    "        self.encoder = Model(input=input_img, output=encoded)\n",
    "\n",
    "        encoded_input = Input(shape=(encoding_dim,), name='DecoderIn')\n",
    "        decoder_layer = self.autoencoder.layers[-1]\n",
    "        self.decoder = Model(input=encoded_input, output=decoder_layer(encoded_input))\n",
    "\n",
    "        self.autoencoder.compile(optimizer='adadelta', loss='binary_crossentropy')"
   ]
  },
  {
   "cell_type": "code",
   "execution_count": null,
   "metadata": {},
   "outputs": [],
   "source": [
    " class DeepAutoencoder(AutoencoderBase):\n",
    "\n",
    "    def __init__(self, dims):\n",
    "        dim_in = dims[0]\n",
    "        dim_out = dims[-1]\n",
    "        dims_encoder = dims[1:]\n",
    "        dims_decoding = dims[:-1]\n",
    "        dims_decoding.reverse()\n",
    "\n",
    "        input_img = Input(shape=(dim_in,), name='EncoderIn')\n",
    "        decoder_input = Input(shape=(dim_out,), name='DecoderIn')\n",
    "\n",
    "        encoded = input_img\n",
    "\n",
    "        # Construct encoder layers\n",
    "        for i, dim in enumerate(dims_encoder):\n",
    "            name = 'Encoder{0}'.format(i)\n",
    "            encoded = Dense(dim, activation='relu', name=name)(encoded)\n",
    "\n",
    "        # Construct decoder layers\n",
    "        # The decoded is connected to the encoders, whereas the decoder is not\n",
    "        decoded = encoded\n",
    "        decoder = decoder_input\n",
    "        for i, dim in enumerate(dims_decoding):\n",
    "            name = 'Decoder{0}'.format(i)\n",
    "\n",
    "            activation = 'relu'\n",
    "            if i == len(dims_decoding) - 1:\n",
    "                activation = 'sigmoid'\n",
    "\n",
    "            layer = Dense(dim, activation=activation, name=name)\n",
    "\n",
    "            decoded = layer(decoded)\n",
    "            decoder = layer(decoder)\n",
    "\n",
    "        self.autoencoder = Model(input=input_img, output=decoded)\n",
    "        self.encoder = Model(input=input_img, output=encoded)\n",
    "        self.decoder = Model(input=decoder_input, output=decoder)\n",
    "\n",
    "        self.autoencoder.compile(optimizer='adadelta', loss='binary_crossentropy')"
   ]
  },
  {
   "cell_type": "markdown",
   "metadata": {},
   "source": [
    "# Load dataset "
   ]
  },
  {
   "cell_type": "code",
   "execution_count": null,
   "metadata": {},
   "outputs": [],
   "source": [
    "import librosa as lbra\n",
    "import librosa.display\n",
    "import IPython.display as ipd\n",
    "\n",
    "from tools import id_path"
   ]
  },
  {
   "cell_type": "code",
   "execution_count": null,
   "metadata": {},
   "outputs": [],
   "source": [
    "songs = pd.read_pickle('electro_index.pkl')"
   ]
  },
  {
   "cell_type": "code",
   "execution_count": null,
   "metadata": {},
   "outputs": [],
   "source": [
    "electronly = songs[songs['genres'].map(lambda x: x == [15])].copy()"
   ]
  },
  {
   "cell_type": "code",
   "execution_count": null,
   "metadata": {
    "scrolled": true
   },
   "outputs": [],
   "source": [
    "results = np.empty((1, 661560))\n",
    "for i, song in enumerate(electronly.index.get_level_values(0)):\n",
    "    wave, sr = lbra.load('songs/electro/fma_large/' + id_path(song))\n",
    "#     results = np.append(results, [[wave.tolist(), [sr]]], axis=0)\n",
    "    results = np.append(results, [wave], axis=0)\n",
    "    print(f'\\r {round(i/electronly.shape[0]*100, 2)} %', end='')"
   ]
  },
  {
   "cell_type": "code",
   "execution_count": null,
   "metadata": {},
   "outputs": [],
   "source": [
    "np.array([wave]).shape"
   ]
  },
  {
   "cell_type": "code",
   "execution_count": null,
   "metadata": {},
   "outputs": [],
   "source": [
    "np.append(np.array([]), [wave])"
   ]
  },
  {
   "cell_type": "code",
   "execution_count": null,
   "metadata": {},
   "outputs": [],
   "source": [
    "results[(0, 1)]"
   ]
  },
  {
   "cell_type": "code",
   "execution_count": null,
   "metadata": {},
   "outputs": [],
   "source": [
    "len(results[(0, 0)])"
   ]
  },
  {
   "cell_type": "code",
   "execution_count": null,
   "metadata": {},
   "outputs": [],
   "source": [
    "len(results[-3])"
   ]
  },
  {
   "cell_type": "code",
   "execution_count": null,
   "metadata": {},
   "outputs": [],
   "source": [
    "lbra.display.waveplot(song)"
   ]
  },
  {
   "cell_type": "code",
   "execution_count": null,
   "metadata": {},
   "outputs": [],
   "source": [
    "ipd.Audio(song, rate=sr)"
   ]
  },
  {
   "cell_type": "code",
   "execution_count": null,
   "metadata": {},
   "outputs": [],
   "source": [
    "autoencoder = Autoencoder(dim_in)"
   ]
  }
 ],
 "metadata": {
  "kernelspec": {
   "display_name": "Python 3",
   "language": "python",
   "name": "python3"
  },
  "language_info": {
   "codemirror_mode": {
    "name": "ipython",
    "version": 3
   },
   "file_extension": ".py",
   "mimetype": "text/x-python",
   "name": "python",
   "nbconvert_exporter": "python",
   "pygments_lexer": "ipython3",
   "version": "3.7.4"
  }
 },
 "nbformat": 4,
 "nbformat_minor": 2
}
